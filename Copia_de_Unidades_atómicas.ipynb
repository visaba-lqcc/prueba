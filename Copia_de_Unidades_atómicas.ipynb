{
 "cells": [
  {
   "cell_type": "markdown",
   "metadata": {
    "id": "EuJQEu4q7YU1",
    "jp-MarkdownHeadingCollapsed": true
   },
   "source": [
    "# Unidades atómicas."
   ]
  },
  {
   "cell_type": "markdown",
   "metadata": {
    "id": "kKJFGfng79A1",
    "jp-MarkdownHeadingCollapsed": true
   },
   "source": [
    "# Tabla de contenido."
   ]
  },
  {
   "cell_type": "markdown",
   "metadata": {
    "id": "4rmw-Rsc8b4W"
   },
   "source": [
    "- Introducción.\n",
    "- Objetivos.\n",
    "- Metodología.\n",
    "- Unidades atómicas.\n",
    "    - Masa y carga del electrón.\n",
    "    - Constante de Planck.\n",
    "    - Unidades atómicas en el modelo atómico de Bohr.\n",
    "      - Momento angular.\n",
    "      - Radio de Bohr.\n",
    "      - Permitividad.\n",
    "    - Unidad atómica de energía (Hartree).\n",
    "- Conclusiones.\n",
    "- Referencias."
   ]
  },
  {
   "cell_type": "markdown",
   "metadata": {
    "id": "n2P1Tdyd7_ht",
    "jp-MarkdownHeadingCollapsed": true
   },
   "source": [
    "# Introducción."
   ]
  },
  {
   "cell_type": "markdown",
   "metadata": {
    "id": "CQs_NiU68gjA"
   },
   "source": [
    "En nuestra vida cotidiana y en campos como la física o las matemáticas, usamos medidas del Sistema Internacional de Unidades (SI), que es el marco estándar para medir propiedades físicas en fenómenos macroscópicos. Por ejemplo, usamos kilogramos para la masa, metros para la distancia y segundos para el tiempo. Estas unidades se conocen como fundamentales, ya que no dependen de otras magnitudes y a partir de estas unidades se forman unidades derivadas, que son unidades formadas por combinaciones de unidades fundamentales, que permiten describir una mayor variedad de fenómenos, como velocidad, aceleración, etc.\n",
    "\n",
    "Sin embargo, al adentrarnos en el mundo microscópico, las unidades del SI son poco convencionales para dimensiones tan pequeñas. Es por esto que empleamos el sistema de unidades atómicas (au), cuya naturaleza está estrechamente relacionada con las ecuaciones que explican los fenómenos cuánticos, como es el caso de la ecuación de Schrödinger. Este sistema no solo simplifica drásticamente dichas ecuaciones al fijar el valor de constantes fundamentales de la física —como la masa del electrón o la carga elemental— a la unidad, sino que también nos proporciona una intuición más directa sobre las magnitudes relevantes a escala atómica y molecular.\n",
    "\n",
    "A lo largo de este Notebook aprenderás acerca de los fundamentos de las unidades atómicas y su aplicación en diversos cálculos de química cuántica."
   ]
  },
  {
   "cell_type": "markdown",
   "metadata": {
    "id": "EK4rQtUp8DwE",
    "jp-MarkdownHeadingCollapsed": true
   },
   "source": [
    "# Objetivos."
   ]
  },
  {
   "cell_type": "markdown",
   "metadata": {
    "id": "BsxMItwd8qA_"
   },
   "source": [
    "General.\n",
    "- Analizar las unidades atómicas mediante sus fundamentos en mecánica cuántica y su aplicación en diversos cálculos y modelos teóricos.\n",
    "\n",
    "Particulares.\n",
    "\n",
    "- Realizar demostraciones que relacionen las unidades atómicas entre sí.\n",
    "- Convertir unidades atómicas a unidades del S.I.\n",
    "- Aplicar las unidades atómicas en cálculos de propiedades atómicas y moleculares."
   ]
  },
  {
   "cell_type": "markdown",
   "metadata": {
    "id": "qyH-A8rz8OKO"
   },
   "source": [
    "\n",
    "# Metodología."
   ]
  },
  {
   "cell_type": "markdown",
   "metadata": {
    "id": "CIHESFdW8tFV"
   },
   "source": [
    "Cada tema expuesto irá acompañado de un breve resumen del surgimiento de la unidad atómica o propiedad junto con dos tipos de ejercicios. Los primeros los encontrarás como \"Ejercicios de evaluación\" y estos los deberás realizar por tu cuenta, los cuales deberás entregar a tu profesor según lo indique. \n",
    "\n",
    "Los demás ejercicios que encontrarás son interactivos y requieren que ingreses un resultado manualmente o escojas la respuesta correcta de la opción múltiple. Para resolverlos, te puedes apoyar de las tablas a continuación, donde podrás encontrar los valores de las unidades atómicas expresadas en unidades del SI.\n",
    "\n",
    "Nota: se sugiere emplear todos los números decimales en los cálculos para que coincidan con los de las respuestas del notebook.\n",
    "\n",
    "A continuación encontrarás un recuadro donde puedes ingresar cualquier texto para que te familiarices con la dinámica del notebook."
   ]
  },
  {
   "cell_type": "code",
   "execution_count": 15,
   "metadata": {},
   "outputs": [
    {
     "data": {
      "application/vnd.jupyter.widget-view+json": {
       "model_id": "359470be9d324fbabda8aa4d7e27de0d",
       "version_major": 2,
       "version_minor": 0
      },
      "text/plain": [
       "Text(value='', description='Respuesta:', placeholder='Escribe tu respuesta aquí')"
      ]
     },
     "metadata": {},
     "output_type": "display_data"
    },
    {
     "data": {
      "application/vnd.jupyter.widget-view+json": {
       "model_id": "cf409846b96f4c149d1fd98cfdbb6423",
       "version_major": 2,
       "version_minor": 0
      },
      "text/plain": [
       "Button(description='Enviar', style=ButtonStyle())"
      ]
     },
     "metadata": {},
     "output_type": "display_data"
    },
    {
     "data": {
      "application/vnd.jupyter.widget-view+json": {
       "model_id": "6d4ebcc6bb1945e99e339c1c96ff8a7a",
       "version_major": 2,
       "version_minor": 0
      },
      "text/plain": [
       "Output()"
      ]
     },
     "metadata": {},
     "output_type": "display_data"
    }
   ],
   "source": [
    "import ipywidgets as widgets\n",
    "from IPython.display import display\n",
    "\n",
    "# Crear el cuadro de texto y el botón\n",
    "texto = widgets.Text(\n",
    "    value='',\n",
    "    placeholder='Escribe tu respuesta aquí',\n",
    "    description='Respuesta:',\n",
    "    disabled=False\n",
    ")\n",
    "\n",
    "boton = widgets.Button(description=\"Enviar\")\n",
    "\n",
    "# Crear una salida para mostrar el mensaje\n",
    "salida = widgets.Output()\n",
    "\n",
    "# Definir la función que se ejecutará al hacer clic\n",
    "def al_hacer_click(b):\n",
    "    with salida:\n",
    "        salida.clear_output()\n",
    "        print(\"¡Muy bien! Ahora puedes comenzar a responder el resto de ejercicios en el notebook.\")\n",
    "\n",
    "boton.on_click(al_hacer_click)\n",
    "\n",
    "# Mostrar los widgets\n",
    "display(texto, boton, salida)"
   ]
  },
  {
   "cell_type": "markdown",
   "metadata": {
    "id": "0qRQTLA33cUU"
   },
   "source": [
    "## Tabla 1. Unidades atómicas fundamentales.\n",
    "\n",
    "| Magnitud                     | Símbolo        | Valor en unidades atómicas (a.u.) | Valor en unidades del SI                   |\n",
    "|-----------------------------|----------------|-----------------------------------|---------------------------------------------|\n",
    "| Masa del electrón           | mₑ      | 1                                 | 9.1091 × $10^{-31}$ $kg$    |\n",
    "| Carga elemental             |  $\\text|e|$        | 1                                 | 1.6021 × 10⁻¹⁹ $C$     |\n",
    "| Momento angular           | $ħ$      | 1                                 | 1.0545 × $10^{-34}$ $J⋅s$ |\n",
    "| Permitividad           | $κ_0$      | $4\\pi ϵ_0=$1                                 | 1.1126 × $10^{-10}$ $C^2⋅J^{-1}m^{-1}$ |"
   ]
  },
  {
   "cell_type": "markdown",
   "metadata": {
    "id": "0qRQTLA33cUU"
   },
   "source": [
    "### Tabla 2. Unidades atómicas derivadas.\n",
    "| Magnitud                     | Símbolo        | Valor en unidades atómicas (a.u.) | Valor en unidades del SI                   |\n",
    "|-----------------------------|----------------|-----------------------------------|---------------------------------------------|\n",
    "| Longitud (radio de Bohr)    | a₀      | 1                                 | 5.29167 × 10⁻¹¹ $m$   |\n",
    "| Energía                     | Eₕ      | 1                                 | 4.35944 × 10⁻¹⁸ $J$   |\n",
    "| Tiempo                      | $T$              | 1                                 | 2.41889 × 10⁻¹⁷ $s$   |\n",
    "| Velocidad                   | —              | 1                                 | 2.18764 × 10⁶ $m⋅s^{-1}$   |\n",
    "| Potencial eléctrico (E potencial de un $e^-$ en el primer radio de Bohr)                  | $V$              | $me^3/κ_0^2 ħ^2=1$                                 | 27.211 $V$   |\n",
    "| Momento dipolar magnético (doble de un magnetón de Bohr)|  μ$_B$    | 1                                 | 1.85464 x 10⁻²³ $m⋅T^{-1}$|\n",
    "\n",
    "\n",
    "> **Nota:** Estos valores corresponden al sistema de unidades atómicas de Hartree. Fuente: *Química Cuántica*, Donald A. McQuarrie."
   ]
  },
  {
   "cell_type": "markdown",
   "metadata": {
    "id": "RE72iTrO8PqU"
   },
   "source": [
    "# Unidades atómicas.\n",
    "\n",
    "Las unidades atómicas parten de valores constantes físicos universales, algunas demostradas experimentalmente y otras son abreviaciones que tienen el propósito de simplificar cálculos más complejos.\n",
    "\n",
    "A continuación, se presenta un breve desarrollo del origen de estas unidades, comenzando con las unidades independientes, hasta llegar a las unidades más complejas."
   ]
  },
  {
   "cell_type": "markdown",
   "metadata": {
    "id": "hoNe8b9ut7E9"
   },
   "source": [
    "# Masa y carga del electrón."
   ]
  },
  {
   "cell_type": "markdown",
   "metadata": {
    "id": "mYzY7z2GDMhw"
   },
   "source": [
    "Gracias a los tubos de vacío de Crooke, Johnson pudo calcular una relación carga-masa de las partículas transportadas, es decir, electrones $(e^-)$. Más adelante, desarrolló un experimento que le permitió calcular la masa y carga del electrón aunque fue equivocado. Fue Millikan, quien con el experimento de de gotas de aceite cargadas y en suspensión, logró calcular con precisión la carga y masa del electrón a lo que hoy en día se sigue empleando."
   ]
  },
  {
   "cell_type": "markdown",
   "metadata": {
    "id": "705Xxlthvb7u"
   },
   "source": [
    "- Evaluación de comprensión: ejercicio 1.\n",
    "\n",
    "Si la relación carga-masa calculada por J. J. Thomson equivale a $1.7588 x 10^{11}$ $C/kg$ y el valor de carga del electrón del experimento de Millikan equivale a $1.6022x10^{-19}$ $C$, calcula el valor de la masa del electrón en kg.\n",
    "\n",
    "Pista: Emplea el análisis dimensional para obtener el valor que buscas\n",
    "\n",
    "$$\\frac{C}{\\frac{C}{kg}}=kg$$"
   ]
  },
  {
   "cell_type": "markdown",
   "metadata": {
    "id": "ooF4gDeZz0Cc"
   },
   "source": [
    "# Constante de Planck.\n"
   ]
  },
  {
   "cell_type": "markdown",
   "metadata": {
    "id": "H5_W5AXzjB_6"
   },
   "source": [
    "Seguramente has visto que algunos objetos cambian de color al aumentar su temperatura. Por ejemplo, algunas estrellas son de color naranja, roja o azul. Otro ejemplo es la fundición de los metales, que al calentarse adquieren un tono rojizo o anaranjado. En realidad, el color de un objeto incandescente depende tanto del material como de la temperatura que alcanza.\n",
    "\n",
    "Este cambio de color está relacionado con la radiación electromagnética que emiten los cuerpos calientes. Sabemos que la luz visible, y por ende, los colores, corresponden a distintas frecuencias y longitudes de onda dentro del espectro electromagnético. Por tanto, la luz emitida por un objeto caliente puede entenderse como una forma de radiación electromagnética que depende de la temperatura y la naturaleza del material.\n",
    "\n",
    "Este fenómeno llamó mucho la atención de los físicos a finales del siglo XIX, quienes propusieron un modelo teórico para estudiarlo: **el cuerpo negro**.\n",
    "Un cuerpo negro es un objeto ideal que absorbe toda la radiación que incide sobre él y, al calentarse, emite radiación en todo el rango de frecuencias.\n",
    "Sin embargo, al estudiar la radiación de un cuerpo negro a diferentes temperaturas, descubrieron que los resultados no podían explicarse mediante la física clásica, lo que llevó al desarrollo de nuevas teorías en la física moderna."
   ]
  },
  {
   "cell_type": "code",
   "execution_count": 5,
   "metadata": {
    "colab": {
     "base_uri": "https://localhost:8080/",
     "height": 596,
     "referenced_widgets": [
      "8d126250f63e40459afa977810fbf7b3",
      "99c9c99ed7024c8ab39ecca1d70b15e5",
      "77672d9413d24ada8f78088d0fb14c94",
      "d1e69004ed4f4c4aad24707e3141dad7",
      "6c3d04cb2bb449e1811c7b83fc3819a9",
      "a0e33afefa1543e39aa96b5293bc3579",
      "5ccdbfa8ba8f47c2a99cb5b4c833ac32"
     ]
    },
    "id": "7u1O_JCQCtAl",
    "outputId": "8409daa7-9f44-49de-8fa9-458190a6719e"
   },
   "outputs": [
    {
     "data": {
      "application/vnd.jupyter.widget-view+json": {
       "model_id": "9ba3add8e51d41f2a9f0bd1ad00ae4ef",
       "version_major": 2,
       "version_minor": 0
      },
      "text/plain": [
       "interactive(children=(FloatSlider(value=4000.0, description='Temperatura (K):', max=10000.0, min=1000.0, step=…"
      ]
     },
     "metadata": {},
     "output_type": "display_data"
    }
   ],
   "source": [
    "import numpy as np\n",
    "import matplotlib.pyplot as plt\n",
    "from ipywidgets import interact, FloatSlider\n",
    "from IPython.display import display\n",
    "\n",
    "# Constantes\n",
    "h = 6.62607015e-34  # Constante de Planck en J·s\n",
    "c = 3.00e8          # Velocidad de la luz en m/s\n",
    "k_B = 1.380649e-23  # Constante de Boltzmann en J/K\n",
    "\n",
    "# Definir la ley de Planck\n",
    "def planck_law(nu, T):\n",
    "    # Evitar división por cero o logaritmo de cero si np.exp(h * nu / (k_B * T)) - 1 es muy cercano a cero\n",
    "    # Se añade un pequeño epsilon para estabilidad numérica\n",
    "    denominator = np.exp(h * nu / (k_B * T)) - 1\n",
    "    # Asegurarse de que el denominador no sea cero para evitar errores RuntimeWarning\n",
    "    denominator[denominator == 0] = 1e-300 # Un número muy pequeño para evitar NaN o inf\n",
    "    return (8 * np.pi * h * nu**3) / (c**3) * (1 / denominator)\n",
    "\n",
    "# Definir el rango de frecuencias (en Hz)\n",
    "nu_min = 1e14      # Frecuencia mínima en Hz (1e14 s^-1)\n",
    "nu_max = 1e15      # Frecuencia máxima en Hz (1e15 s^-1)\n",
    "nu = np.linspace(nu_min, nu_max, 1000)\n",
    "\n",
    "# Convertir la frecuencia de Hz a x10^-14 s^-1 para el eje X\n",
    "nu_x10_14 = nu * 1e-14\n",
    "\n",
    "# Función para actualizar la gráfica en base a la temperatura\n",
    "def plot_planck_interactive(temperatura):\n",
    "    plt.figure(figsize=(10, 6))\n",
    "\n",
    "    # Calcular la intensidad para la temperatura seleccionada\n",
    "    I = planck_law(nu, temperatura)\n",
    "\n",
    "    plt.plot(nu_x10_14, I, label=f'Temperatura = {temperatura} K', color='red')\n",
    "\n",
    "    # Títulos y etiquetas de los ejes\n",
    "    plt.title(f'Figura 1. Isoterma de Intensidad vs Frecuencia para Cuerpo Negro a {temperatura} K')\n",
    "    plt.xlabel('Frecuencia (x10⁻¹⁴ s⁻¹)')\n",
    "    plt.ylabel('Intensidad (W·m⁻³·Hz⁻¹)')\n",
    "    plt.legend()\n",
    "    plt.grid(True)\n",
    "    plt.ylim(bottom=0) # Asegura que el eje Y comience en 0 para evitar cortes extraños\n",
    "    plt.show()\n",
    "\n",
    "# Crear el deslizador interactivo para la temperatura\n",
    "# Define el rango del deslizador (min, max, paso)\n",
    "temp_slider = FloatSlider(\n",
    "    value=4000,\n",
    "    min=1000,\n",
    "    max=10000,\n",
    "    step=100,\n",
    "    description='Temperatura (K):',\n",
    "    continuous_update=True # Actualiza la gráfica mientras se mueve el deslizador\n",
    ")\n",
    "\n",
    "# Mostrar el deslizador y vincularlo a la función de la gráfica\n",
    "interact(plot_planck_interactive, temperatura=temp_slider);"
   ]
  },
  {
   "cell_type": "markdown",
   "metadata": {
    "id": "J-7f8cTuqcQu"
   },
   "source": [
    "Planck logró explicar este fenómeno al plantear oscilaciones de los electrones en las partículas constituyentes del cuerpo negro y asume que la energía de los osciladores es proporcional a la integral múltiple de la frecuencia:\n",
    "\n",
    "$$ℇ=nhν$$\n",
    "donde:\n",
    "\n",
    "$ℇ=$ energía\n",
    "\n",
    "$n=$ número entero\n",
    "\n",
    "$h=$ constante de proporcionalidad\n",
    "\n",
    "$ν=$ frecuencia\n",
    "\n",
    "A partir de principios de termodinámica estadística, Planck determinó que:\n",
    "\n",
    "$$ρ(ν,T)dν=\\frac{8 ⋅ \\pi ⋅h⋅ν^3}{c^3}\\frac{dν}{e^{\\frac{h⋅ν}{K_B⋅T}}-1}$$\n",
    "\n",
    "donde:\n",
    "\n",
    "$ρ(ν,T)dν$ es la densidad de energía raidada entre $ν$ y $ν+dν$\n",
    "\n",
    "$K_B=$ constante de Boltzman\n",
    "\n",
    "$c=$ constante de velocidad de la luz\n",
    "\n",
    "$T=$ temperatura absoluta\n",
    "\n",
    "Esta se conoce como la *ley de distribución de Planck para radiación de cuerpo negro* y gracias a esta ecuación, Planck determinó que:\n",
    "\n",
    "$$h=6.626 \\times 10^{-34}J⋅s$$\n",
    "\n",
    "la cuál se conoce como la constante de Planck, en honor a su valiosa aportación para el desarrollo de las teorías en la física moderna."
   ]
  },
  {
   "cell_type": "markdown",
   "metadata": {
    "id": "tPaBSJO1vYEF"
   },
   "source": [
    "- Evaluación de comprensión: ejercicio 2.\n",
    "\n",
    "Expresa la ecuación de la ley de distribución de Planck en términos de la longitud de onda ($Λ$).\n",
    "\n",
    "Considera que:\n",
    "\n",
    "$ν\\cdotλ=c$\n",
    "\n",
    "$dν=-\\frac{-cdλ}{λ^2}$\n",
    "\n",
    "El resultado final es:\n",
    "\n",
    "$$ρ_λ(T)dλ=-\\frac{8 ⋅ \\pi ⋅h⋅c}{λ^5}\\frac{dλ}{e^{\\frac{h⋅c}{\\lambda K_B⋅T}}-1}$$"
   ]
  },
  {
   "cell_type": "markdown",
   "metadata": {
    "id": "3pMyFSKkt4pa"
   },
   "source": [
    "# Unidades atómicas en el modelo atómico de Bohr."
   ]
  },
  {
   "cell_type": "markdown",
   "metadata": {
    "id": "wuOJJv84RJVz"
   },
   "source": [
    "El modelo atómido de Rutherford planteaba que los electrones orbitaban alrededor del núcleo, de manera análoga a como orbitan los planteas alrededor del Sol, y se demostró que el modelo era erróneo, pues se sabe que una partícula cargada emana radiación electromagnética al estar en movimiento, por lo que en algún momento el electrón liberaría esta energía al orbitar y ocasionaría que se acerque al núcleo gradualmente, formando un orbital en forma de espiral."
   ]
  },
  {
   "cell_type": "code",
   "execution_count": 6,
   "metadata": {
    "colab": {
     "base_uri": "https://localhost:8080/",
     "height": 626
    },
    "id": "Y_vphmc79I80",
    "outputId": "c7021a81-886b-4f15-dd32-a33c19aad246"
   },
   "outputs": [
    {
     "data": {
      "image/png": "[encoded data removed]",
      "text/plain": [
       "<Figure size 1200x600 with 2 Axes>"
      ]
     },
     "metadata": {},
     "output_type": "display_data"
    }
   ],
   "source": [
    "import matplotlib.pyplot as plt\n",
    "import numpy as np\n",
    "\n",
    "# Crear una figura y dos subgráficos\n",
    "fig, (ax1, ax2) = plt.subplots(1, 2, figsize=(12, 6))\n",
    "\n",
    "# --- Gráfico 1: Modelo de Rutherford (órbita circular estable) ---\n",
    "# Crear un nuevo núcleo para este gráfico\n",
    "nucleo1 = plt.Circle((0, 0), 0.1, color='red', label='Núcleo (protones)', zorder=5)\n",
    "ax1.add_artist(nucleo1)\n",
    "\n",
    "# Radio de la órbita\n",
    "radio = 1.0  # El radio puede ser un valor arbitrario\n",
    "theta = np.linspace(0, 2*np.pi, 100)\n",
    "\n",
    "# Coordenadas del electrón orbitando\n",
    "x = radio * np.cos(theta)\n",
    "y = radio * np.sin(theta)\n",
    "\n",
    "# Dibujar la órbita\n",
    "ax1.plot(x, y, label=\"Órbita del electrón\", color='black')\n",
    "\n",
    "# Dibujar el electrón (en la órbita)\n",
    "electron_x = radio * np.cos(np.pi/4)  # Colocamos el electrón en un ángulo arbitrario\n",
    "electron_y = radio * np.sin(np.pi/4)\n",
    "ax1.plot(electron_x, electron_y, 'o', color='blue', label=\"Electrón\")\n",
    "\n",
    "# Configurar límites y aspecto\n",
    "ax1.set_xlim(-1.2, 1.2)\n",
    "ax1.set_ylim(-1.2, 1.2)\n",
    "ax1.set_aspect('equal', 'box')  # Mantener proporciones\n",
    "ax1.set_title(\"Modelo Atómico de Rutherford\", fontsize=14)\n",
    "\n",
    "# Añadir etiquetas\n",
    "ax1.legend(loc=\"upper right\")\n",
    "\n",
    "# Ocultar los ejes\n",
    "ax1.axis('off')\n",
    "\n",
    "# --- Gráfico 2: Modelo fallido (electrón en espiral) ---\n",
    "# Crear un nuevo núcleo para este gráfico\n",
    "nucleo2 = plt.Circle((0, 0), 0.1, color='red', label='Núcleo (protones)', zorder=5)\n",
    "ax2.add_artist(nucleo2)\n",
    "\n",
    "# Parámetros de la espiral (electrón que espiraliza hacia el núcleo)\n",
    "t = np.linspace(0, 4*np.pi, 100)  # 4 giros hacia el centro\n",
    "r = radio * np.exp(-t/5)  # Radio decreciendo con la espiral\n",
    "x_spiral = r * np.cos(t)\n",
    "y_spiral = r * np.sin(t)\n",
    "\n",
    "# Dibujar la espiral del electrón\n",
    "ax2.plot(x_spiral, y_spiral, label=\"Electrón en espiral\", color='black')\n",
    "\n",
    "# Dibujar el electrón en una posición inicial de la espiral\n",
    "ax2.plot(x_spiral[0], y_spiral[0], 'o', color='blue', label=\"Electrón\")\n",
    "\n",
    "# Configurar límites y aspecto\n",
    "ax2.set_xlim(-1.2, 1.2)\n",
    "ax2.set_ylim(-1.2, 1.2)\n",
    "ax2.set_aspect('equal', 'box')  # Mantener proporciones\n",
    "ax2.set_title(\"Modelo Fallido: Espiralización del electrón\", fontsize=14)\n",
    "\n",
    "# Añadir etiquetas\n",
    "ax2.legend(loc=\"upper right\")\n",
    "\n",
    "# Ocultar los ejes\n",
    "ax2.axis('off')\n",
    "\n",
    "# Mostrar ambos gráficos\n",
    "plt.tight_layout()\n",
    "plt.show()"
   ]
  },
  {
   "cell_type": "markdown",
   "metadata": {
    "id": "tsasKgES9H41"
   },
   "source": [
    "Como solución, Bohr planteó un modelo atómico tomando ideas de la radiación de cuerpo negro y el efecto fotoeléctrico y las aplicó a la energía que es emitida o absorbida por el átomo, de tal forma que solamente ocurriría de forma **cuantizada**. Esto nos indica que el electrón podría orbitar alrededor del núcleo y liberar energía en cantidades discretas, no de forma contínua como se creía."
   ]
  },
  {
   "cell_type": "code",
   "execution_count": 7,
   "metadata": {
    "colab": {
     "base_uri": "https://localhost:8080/",
     "height": 807
    },
    "id": "c1QPZc7B_k6j",
    "outputId": "82aa1704-45dd-42ec-dbc8-a5060c5b707b"
   },
   "outputs": [
    {
     "data": {
      "image/png": "[encoded data removed]",
      "text/plain": [
       "<Figure size 800x800 with 1 Axes>"
      ]
     },
     "metadata": {},
     "output_type": "display_data"
    }
   ],
   "source": [
    "import matplotlib.pyplot as plt\n",
    "import numpy as np\n",
    "\n",
    "# Crear una figura y un solo gráfico\n",
    "fig, ax = plt.subplots(figsize=(8, 8))\n",
    "\n",
    "# --- Parámetros ---\n",
    "# Radio de Bohr para el primer nivel (n=1), como un valor arbitrario\n",
    "radio_inicial = 5.0  # Comienza muy lejos (casi infinito)\n",
    "radio_bohr = 1.0  # El radio en el que se detendrá el electrón (estado estacionario)\n",
    "n = 1  # Para este ejemplo, consideramos el nivel n=1 (primer nivel cuántico)\n",
    "t = np.linspace(0, 4 * np.pi, 200)  # Tiempo para el movimiento de espiral\n",
    "\n",
    "# Decay exponencial del radio: el radio disminuye hacia el radio de Bohr\n",
    "r = radio_inicial * np.exp(-t / 15)  # El electrón se acerca hacia r_bohr (función exponencial)\n",
    "\n",
    "# Coordenadas del electrón moviéndose en espiral hacia el núcleo\n",
    "x_spiral = r * np.cos(t)\n",
    "y_spiral = r * np.sin(t)\n",
    "\n",
    "# Crear el círculo para el núcleo\n",
    "nucleo = plt.Circle((0, 0), 0.1, color='red', label='Núcleo (protones)', zorder=5)\n",
    "ax.add_artist(nucleo)\n",
    "\n",
    "# Dibujar la espiral del electrón\n",
    "ax.plot(x_spiral, y_spiral, label=\"Electrón en espiral hacia el estado estacionario\", color='black')\n",
    "\n",
    "# Marcamos el radio de Bohr en el que el electrón se detendría\n",
    "ax.plot(radio_bohr * np.cos(np.linspace(0, 2 * np.pi, 100)),\n",
    "        radio_bohr * np.sin(np.linspace(0, 2 * np.pi, 100)), 'b--', label=f'Estado estacionario (r={radio_bohr})')\n",
    "\n",
    "# Añadir el electrón en su posición inicial\n",
    "ax.plot(x_spiral[0], y_spiral[0], 'o', color='blue', label=\"Electrón al inicio\")\n",
    "\n",
    "# Configurar límites y aspecto\n",
    "ax.set_xlim(-radio_inicial - 1, radio_inicial + 1)\n",
    "ax.set_ylim(-radio_inicial - 1, radio_inicial + 1)\n",
    "ax.set_aspect('equal', 'box')  # Mantener proporciones\n",
    "ax.set_title(\"Modelo Atómico de Bohr: Electrón en espiral hacia el estado estacionario\", fontsize=14)\n",
    "\n",
    "# Añadir etiquetas\n",
    "ax.legend(loc=\"upper right\")\n",
    "\n",
    "# Ocultar los ejes\n",
    "ax.axis('off')\n",
    "\n",
    "# Mostrar el gráfico\n",
    "plt.tight_layout()\n",
    "plt.show()"
   ]
  },
  {
   "cell_type": "markdown",
   "metadata": {
    "id": "dCnysS4O_18O"
   },
   "source": [
    "Además plantea que el electrón podría acercarse desde un punto infinito en el espacio cuya energia sería prácticamente nula hasta un punto donde la energía es constante, es decir, un **estado estacionario**.\n",
    "\n",
    "## Momento angular\n",
    "\n",
    "Bohr aplicó ideas de la mecánica clásica al movimiento del electrón orbitando alrededor del núcleo, especialmente al **momento angular**. Como recordarás en tu clase de física, el momento lineal es el producto de la masa por la velocidad:\n",
    "\n",
    "$$p=mv$$\n",
    "\n",
    "Por otro lado, el momento angular es el producto del radio orbital, la masa del electrón y su velocidad tangencial. Que puede deducirse a partir de:\n",
    "\n",
    "$$l=I\\cdotΩ=(m⋅r^2)(\\frac{v}{r})=mvr$$\n",
    "donde:\n",
    "\n",
    "$I=$ momento de inercia\n",
    "\n",
    "$Ω=$ velocidad angular\n",
    "\n",
    "Bohr postuló que el momento angular solo puede adquirir ciertos valores que fueran múltiplos enteros de la constante reducida de Planck es decir:\n",
    "\n",
    "$$l=mvr=nħ$$\n",
    "\n",
    "tal que\n",
    "\n",
    "$n=1,2,...$\n",
    "\n",
    "$ħ$ es la constante reducida de Planck (h-barra) y equivale a:\n",
    "\n",
    "$$ħ=\\frac{h}{2\\pi}$$\n",
    "\n",
    "*Nota importante: recuerda el valor de la constante reducida de Planck, aparece en la mayoría de los cálculos que harás en el notebook.*\n",
    "\n",
    "Esta fue una de las claves para explicar por qué los electrones no colapsaban hacia el núcleo y por qué los espectros atómicos mostraban líneas discretas.\n",
    "\n",
    "## Radio de Bohr.\n",
    "\n",
    "De mecánica clásica sabemos que una partícula que orbita alrededor de un punto tiene un aceleración dirigida hacia afuera de la órbita y una fuerza contraria que la mantiene en órbita, dada por:\n",
    "$$f=\\frac{mv^2}{r}$$\n",
    "\n",
    "Si conocemos que la fuerza que lo mantiene en órbita es de naturaleza electrostática, entonces aplicando la ley de Coulomb a la ecuación se tiene que:\n",
    "\n",
    "$$\\frac{e^2}{4π ϵ_0 r^2}=\\frac{mv^2}{r}$$\n",
    "\n",
    "donde:\n",
    "\n",
    "$ϵ_0$ es la permitividad del vacío $=8.85419×10^{-12} C^2 \\cdot N^{-1}\\cdot m^{-2}$\n",
    "\n",
    "$e$ es la carga elemental del electrón\n",
    "\n",
    "Si tomamos la idea del momento angular cuantizado de Bohr y despejamos $v$:\n",
    "\n",
    "$$v=\\frac{nħ}{rm}$$\n",
    "\n",
    "Podemos obtener el valor del radio permitido según las ideas de Bohr. El valor del radio atómico para el primer orbital es conocido como el **radio de Bohr ($a_0$)**.\n",
    "\n",
    "\n",
    "\n",
    "- Evaluación de comprensión: ejercicio 3.\n",
    "\n",
    "Empleando las ecuaciones anteriores, demuestra en unidades atómicas el valor del primer radio de Bohr desarrollando tu procedimiento y su conversión en unidades del SI.\n",
    "\n",
    "## Permitividad.\n",
    "\n",
    "Como viste en el subtema anterior, surgió la permitividad del vacío ($ϵ_0$) en el denominador de la ecuación de la ley de Coulomb. El término $4πϵ_0$ es un valor importante que permite simplificar las ecuaciones que verás más adelante y se expresa como:\n",
    "\n",
    "$$κ_0=4πϵ_0$$\n",
    "\n",
    "donde $κ_0$ se conoce simplemente como permitividad."
   ]
  },
  {
   "cell_type": "markdown",
   "metadata": {
    "id": "USVv7RqJIIl2"
   },
   "source": [
    "# Unidad atómica de energía (Hartree).\n",
    "\n",
    "Ya que hemos visto que el modelo de Bohr permite conocer los orbitales en los que el electrón está permitido orbitar, veremos cómo se obtiene la energía de los orbitales a partir de las unidades atómicas obtenidas hasta ahora.\n",
    "\n",
    "Regresemos un poco a la mecánica clásica, donde se sabe que la energía total es la suma de la energía potencial y la energía cinética:\n",
    "\n",
    "$$E=K+U$$\n",
    "\n",
    "donde:\n",
    "\n",
    "$E=$ energía total\n",
    "\n",
    "$K=$ energía cinética\n",
    "\n",
    "$U=$ energía potencial\n",
    "\n",
    "La energía potencial se obtiene a partir de la Ley de Coulomb:\n",
    "\n",
    "$$U=-\\frac{e^2}{4πϵ_0r}$$\n",
    "\n",
    "mientras que la energía cinética podemos relacionarla con el momento angular que vimos anteriormente:\n",
    "\n",
    "$$K=\\frac{mv^2}{2}$$\n",
    "\n",
    "Despejando $mv^2$ de:\n",
    "\n",
    "$$\\frac{e^2}{4π ϵ_0 r^2}=\\frac{mv^2}{r}$$\n",
    "\n",
    "$$mv^2=\\frac{e^2}{4πϵ_0r}$$\n",
    "\n",
    "Sustituyendo en la ecuación de la energía total tenemos que:\n",
    "\n",
    "$$E=\\frac{1}{2}(\\frac{e^2}{4πϵ_0r})-\\frac{e^2}{4πϵ_0r}$$\n",
    "\n",
    "$$E=-\\frac{e^2}{8πϵ_0r}$$\n",
    "\n",
    "Además, sabemos que la ecuación con la que demostraste el radio de Bohr nos permite conocer los radios permitidos, por lo que podemos sustituir $r$ en esta ecuación para obtener los valores de energía cuantizados ($E_n$):\n",
    "\n",
    "$$E_n=-\\frac{me^4}{8ϵ_0^2h^2}\\frac{1}{n^2}$$\n",
    "\n",
    "tal que $n=1,2,3,...$\n",
    "\n",
    "Cuando $n=1$ obtenemos el estado de mínima energía, conocido como *energía en estado estacionario*."
   ]
  },
  {
   "cell_type": "markdown",
   "metadata": {
    "id": "zzmdnfztOt_u"
   },
   "source": [
    "- Evaluación de comprensión: ejercicio 4.\n",
    "\n",
    "Si sabemos que la unidad atómica de energía, Hartree ($H$), es:\n",
    "\n",
    "$$1 H=E=\\frac{me^4}{κ_0^2ħ^2}$$\n",
    "\n",
    "Demuestra que la energía del átomo de hídrogeno para su estado estacionario equivale a $-\\frac{1}{2}Hartree$."
   ]
  },
  {
   "cell_type": "markdown",
   "metadata": {
    "id": "1vUgvvCmSlRR"
   },
   "source": [
    "- Ejercicio 1.\n",
    "\n",
    "En el siguiente recuadro ingresa el valor de un hartree convertido a unidades del sistema internacional en $kJ mol^{-1}$.\n",
    "Considera que el número de Avogrado equivale a $6.022×10^{-23}$ $mol^{-1}$"
   ]
  },
  {
   "cell_type": "code",
   "execution_count": 8,
   "metadata": {
    "id": "BqAAgG4aSkVE"
   },
   "outputs": [
    {
     "name": "stdin",
     "output_type": "stream",
     "text": [
      "Ingresa el resultado que obtuviste (±1 kJ/mol de margen de error):  207\n"
     ]
    },
    {
     "name": "stdout",
     "output_type": "stream",
     "text": [
      "❌ Tu respuesta no es correcta. Recuerda revisar los decimales que empleaste para el cálculo. ¡No te rindas! Inténtalo de nuevo.\n"
     ]
    }
   ],
   "source": [
    "# Solicitar al usuario que ingrese un número\n",
    "try:\n",
    "    valor = float(input(\"Ingresa el resultado que obtuviste (±1 kJ/mol de margen de error): \"))\n",
    "\n",
    "    # Verificar si está dentro del rango aceptable\n",
    "    if 2624 <= valor <= 2626:\n",
    "        print(\"✅ ¡Muy bien! Has logrado convertir correctamente a unidades del SI un hartree.\")\n",
    "    else:\n",
    "        print(\"❌ Tu respuesta no es correcta. Recuerda revisar los decimales que empleaste para el cálculo. ¡No te rindas! Inténtalo de nuevo.\")\n",
    "except ValueError:\n",
    "    print(\"⚠️ Por favor, ingresa un número válido.\")"
   ]
  },
  {
   "cell_type": "markdown",
   "metadata": {
    "id": "wULZi4hj1OmR"
   },
   "source": [
    "- Ejercicio 2.\n",
    "\n",
    "Sabemos que la velocidad es la relación de distancia recorrida por unidad de tiempo. ¿Qué relación permite conocer la velocidad de un electrón orbitando alrededor de un núcleo para el primer radio de Bohr?\n",
    "\n",
    "Considera que $T=\\frac{{\\kappa_0^2 \\hbar^3}}{{me^4}}$\n",
    "\n",
    "a) $$\\frac{{\\hbar}}{{me^2}}$$  \n",
    "b) $$\\frac{\\hbar}{2\\pi}$$  \n",
    "c) $$\\frac{e^2}{\\kappa_0 \\hbar}$$  \n",
    "d) $$\\frac{4\\pi \\varepsilon_0}{2\\pi}$$"
   ]
  },
  {
   "cell_type": "code",
   "execution_count": 9,
   "metadata": {
    "colab": {
     "base_uri": "https://localhost:8080/",
     "height": 120,
     "referenced_widgets": [
      "244c665c110a46a0b4d22646159bef3c",
      "0e79c25f1e52421bb81ae604840b80d9",
      "3fbc5c8ff68e442cb2011f8735be3e5f",
      "19041baa370b4fd89450e9138edf49ca",
      "7f48151937fc4fa0983c926d139d90c4",
      "91d55acb285140c19d8acc449076c0db",
      "746e7ec4f2a24dce82e19f5d7367fa10",
      "c3e72e388f0c4c9abb38e4ad2dfc5dbd"
     ]
    },
    "id": "M5yKrGE86S-E",
    "outputId": "a961a3d7-71cf-45f5-8aa2-904deee0d5ec"
   },
   "outputs": [
    {
     "data": {
      "text/markdown": [
       "### Escribe la letra de tu respuesta (a, b, c o d)."
      ],
      "text/plain": [
       "<IPython.core.display.Markdown object>"
      ]
     },
     "metadata": {},
     "output_type": "display_data"
    },
    {
     "data": {
      "application/vnd.jupyter.widget-view+json": {
       "model_id": "10cd066a758240379bf6cf079da07bac",
       "version_major": 2,
       "version_minor": 0
      },
      "text/plain": [
       "Text(value='', description='Tu respuesta:', placeholder='Escribe la letra de tu respuesta (a, b, c o d)')"
      ]
     },
     "metadata": {},
     "output_type": "display_data"
    },
    {
     "data": {
      "application/vnd.jupyter.widget-view+json": {
       "model_id": "00dab66f671547f78770f29deb6d7089",
       "version_major": 2,
       "version_minor": 0
      },
      "text/plain": [
       "Button(description='Verificar respuesta', style=ButtonStyle())"
      ]
     },
     "metadata": {},
     "output_type": "display_data"
    },
    {
     "data": {
      "application/vnd.jupyter.widget-view+json": {
       "model_id": "27cb28031dad4584ad762caa1063ccd9",
       "version_major": 2,
       "version_minor": 0
      },
      "text/plain": [
       "Output()"
      ]
     },
     "metadata": {},
     "output_type": "display_data"
    }
   ],
   "source": [
    "import ipywidgets as widgets\n",
    "from IPython.display import display, Markdown, clear_output\n",
    "\n",
    "# Crear el widget para ingresar la letra del inciso\n",
    "entrada = widgets.Text(\n",
    "    value='',\n",
    "    placeholder='Escribe la letra de tu respuesta (a, b, c o d)',\n",
    "    description='Tu respuesta:',\n",
    "    disabled=False\n",
    ")\n",
    "\n",
    "# Output para mostrar resultado\n",
    "salida = widgets.Output()\n",
    "\n",
    "# Función para verificar la respuesta\n",
    "def verificar_respuesta(b):\n",
    "    with salida:\n",
    "        clear_output()\n",
    "        respuesta = entrada.value.strip().lower()\n",
    "        if respuesta == \"c\":\n",
    "            display(Markdown(\"✅ **¡Correcto!** La velocidad del electrón en el primer radio de Bohr está dada por la relación: $\\\\dfrac{e^2}{\\\\kappa_0 \\\\hbar}$.\"))\n",
    "        else:\n",
    "            display(Markdown(\"❌ **Incorrecto.** Intenta de nuevo.\"))\n",
    "\n",
    "# Botón para verificar la respuesta\n",
    "boton = widgets.Button(description=\"Verificar respuesta\")\n",
    "\n",
    "# Función que se ejecuta al hacer clic en el botón\n",
    "boton.on_click(verificar_respuesta)\n",
    "\n",
    "# Mostrar la instrucción, el widget de entrada y el botón\n",
    "display(Markdown(\"### Escribe la letra de tu respuesta (a, b, c o d).\"))\n",
    "display(entrada, boton, salida)"
   ]
  },
  {
   "cell_type": "markdown",
   "metadata": {
    "id": "xb9MVWjw7RO6"
   },
   "source": [
    "- Ejercicio 3.\n",
    "\n",
    "¿A cuánto equiale la velocidad de la luz en unidades atómicas ($au$)?"
   ]
  },
  {
   "cell_type": "code",
   "execution_count": 10,
   "metadata": {
    "colab": {
     "base_uri": "https://localhost:8080/",
     "height": 149,
     "referenced_widgets": [
      "78695a5239ae441fa1623682d8958d5b",
      "738ecff0dae944838ea8f74ab6e172cd",
      "362ed33e7d334102abc1c7a1c924258b",
      "27273e2f6ebe4d6092338f11192f0139",
      "5694de61dabf4be2adaa94ce8241e8d5",
      "678109d5328f48e9ad70db7643cc2cee",
      "82dc3e6eb30a4969a23ea366c1fb4888",
      "37d8f1ead9aa4de285a1401de200961a"
     ]
    },
    "id": "2yfF2jBc7_0q",
    "outputId": "5320f691-007b-4c3b-90a2-67ec68d83254"
   },
   "outputs": [
    {
     "data": {
      "text/markdown": [
       "### Ingresa el resultado en au, solamente el valor numérico:"
      ],
      "text/plain": [
       "<IPython.core.display.Markdown object>"
      ]
     },
     "metadata": {},
     "output_type": "display_data"
    },
    {
     "data": {
      "application/vnd.jupyter.widget-view+json": {
       "model_id": "5b157e1b39d948ed95cda73657820454",
       "version_major": 2,
       "version_minor": 0
      },
      "text/plain": [
       "Text(value='', description='Tu respuesta:', placeholder='Ingresa el resultado en au, solamente el valor numéri…"
      ]
     },
     "metadata": {},
     "output_type": "display_data"
    },
    {
     "data": {
      "application/vnd.jupyter.widget-view+json": {
       "model_id": "48f5337ac138430e9337905a90d3db8f",
       "version_major": 2,
       "version_minor": 0
      },
      "text/plain": [
       "Button(description='Verificar respuesta', style=ButtonStyle())"
      ]
     },
     "metadata": {},
     "output_type": "display_data"
    },
    {
     "data": {
      "application/vnd.jupyter.widget-view+json": {
       "model_id": "715aab8a32a245d9b61c57fed705737a",
       "version_major": 2,
       "version_minor": 0
      },
      "text/plain": [
       "Output()"
      ]
     },
     "metadata": {},
     "output_type": "display_data"
    }
   ],
   "source": [
    "import ipywidgets as widgets\n",
    "from IPython.display import display, Markdown, clear_output\n",
    "\n",
    "# Crear el widget para ingresar la respuesta (número)\n",
    "entrada = widgets.Text(\n",
    "    value='',\n",
    "    placeholder='Ingresa el resultado en au, solamente el valor numérico:',\n",
    "    description='Tu respuesta:',\n",
    "    disabled=False\n",
    ")\n",
    "\n",
    "# Output para mostrar resultado\n",
    "salida = widgets.Output()\n",
    "\n",
    "# Función para verificar la respuesta\n",
    "def verificar_respuesta(b):\n",
    "    with salida:\n",
    "        clear_output()\n",
    "        try:\n",
    "            respuesta = int(entrada.value.strip())\n",
    "            if respuesta == 137:\n",
    "                display(Markdown(\"✅ **¡Correcto!** La respuesta es 137. ¡Bien hecho!\"))\n",
    "            else:\n",
    "                display(Markdown(\"❌ **Incorrecto.** Intenta de nuevo.\"))\n",
    "        except ValueError:\n",
    "            display(Markdown(\"⚠️ **Por favor, ingresa un número válido.**\"))\n",
    "\n",
    "# Botón para verificar la respuesta\n",
    "boton = widgets.Button(description=\"Verificar respuesta\")\n",
    "\n",
    "# Función que se ejecuta al hacer clic en el botón\n",
    "boton.on_click(verificar_respuesta)\n",
    "\n",
    "# Mostrar la instrucción, el widget de entrada y el botón\n",
    "display(Markdown(\"### Ingresa el resultado en au, solamente el valor numérico:\"))\n",
    "display(entrada, boton, salida)"
   ]
  },
  {
   "cell_type": "markdown",
   "metadata": {
    "id": "8Yx7lWru8UDx"
   },
   "source": [
    "# Conclusiones."
   ]
  },
  {
   "cell_type": "markdown",
   "metadata": {
    "id": "Z44jWsBU8X9X"
   },
   "source": [
    "# Referencias."
   ]
  }
 ],
 "metadata": {
  "colab": {
   "provenance": []
  },
  "kernelspec": {
   "display_name": "Python 3 (ipykernel)",
   "language": "python",
   "name": "python3"
  },
  "language_info": {
   "codemirror_mode": {
    "name": "ipython",
    "version": 3
   },
   "file_extension": ".py",
   "mimetype": "text/x-python",
   "name": "python",
   "nbconvert_exporter": "python",
   "pygments_lexer": "ipython3",
   "version": "3.13.7"
  },
  "widgets": {
   "application/vnd.jupyter.widget-state+json": {
    "0e79c25f1e52421bb81ae604840b80d9": {
     "model_module": "@jupyter-widgets/base",
     "model_module_version": "1.2.0",
     "model_name": "LayoutModel",
     "state": {
      "_model_module": "@jupyter-widgets/base",
      "_model_module_version": "1.2.0",
      "_model_name": "LayoutModel",
      "_view_count": null,
      "_view_module": "@jupyter-widgets/base",
      "_view_module_version": "1.2.0",
      "_view_name": "LayoutView",
      "align_content": null,
      "align_items": null,
      "align_self": null,
      "border": null,
      "bottom": null,
      "display": null,
      "flex": null,
      "flex_flow": null,
      "grid_area": null,
      "grid_auto_columns": null,
      "grid_auto_flow": null,
      "grid_auto_rows": null,
      "grid_column": null,
      "grid_gap": null,
      "grid_row": null,
      "grid_template_areas": null,
      "grid_template_columns": null,
      "grid_template_rows": null,
      "height": null,
      "justify_content": null,
      "justify_items": null,
      "left": null,
      "margin": null,
      "max_height": null,
      "max_width": null,
      "min_height": null,
      "min_width": null,
      "object_fit": null,
      "object_position": null,
      "order": null,
      "overflow": null,
      "overflow_x": null,
      "overflow_y": null,
      "padding": null,
      "right": null,
      "top": null,
      "visibility": null,
      "width": null
     }
    },
    "19041baa370b4fd89450e9138edf49ca": {
     "model_module": "@jupyter-widgets/controls",
     "model_module_version": "1.5.0",
     "model_name": "ButtonModel",
     "state": {
      "_dom_classes": [],
      "_model_module": "@jupyter-widgets/controls",
      "_model_module_version": "1.5.0",
      "_model_name": "ButtonModel",
      "_view_count": null,
      "_view_module": "@jupyter-widgets/controls",
      "_view_module_version": "1.5.0",
      "_view_name": "ButtonView",
      "button_style": "",
      "description": "Verificar respuesta",
      "disabled": false,
      "icon": "",
      "layout": "IPY_MODEL_7f48151937fc4fa0983c926d139d90c4",
      "style": "IPY_MODEL_91d55acb285140c19d8acc449076c0db",
      "tooltip": ""
     }
    },
    "2017b8ffdad845dbae98014cc247c366": {
     "model_module": "@jupyter-widgets/controls",
     "model_module_version": "1.5.0",
     "model_name": "ButtonStyleModel",
     "state": {
      "_model_module": "@jupyter-widgets/controls",
      "_model_module_version": "1.5.0",
      "_model_name": "ButtonStyleModel",
      "_view_count": null,
      "_view_module": "@jupyter-widgets/base",
      "_view_module_version": "1.2.0",
      "_view_name": "StyleView",
      "button_color": null,
      "font_weight": ""
     }
    },
    "244c665c110a46a0b4d22646159bef3c": {
     "model_module": "@jupyter-widgets/controls",
     "model_module_version": "1.5.0",
     "model_name": "TextModel",
     "state": {
      "_dom_classes": [],
      "_model_module": "@jupyter-widgets/controls",
      "_model_module_version": "1.5.0",
      "_model_name": "TextModel",
      "_view_count": null,
      "_view_module": "@jupyter-widgets/controls",
      "_view_module_version": "1.5.0",
      "_view_name": "TextView",
      "continuous_update": true,
      "description": "Tu respuesta:",
      "description_tooltip": null,
      "disabled": false,
      "layout": "IPY_MODEL_0e79c25f1e52421bb81ae604840b80d9",
      "placeholder": "Escribe la letra de tu respuesta (a, b, c o d)",
      "style": "IPY_MODEL_3fbc5c8ff68e442cb2011f8735be3e5f",
      "value": ""
     }
    },
    "27273e2f6ebe4d6092338f11192f0139": {
     "model_module": "@jupyter-widgets/controls",
     "model_module_version": "1.5.0",
     "model_name": "ButtonModel",
     "state": {
      "_dom_classes": [],
      "_model_module": "@jupyter-widgets/controls",
      "_model_module_version": "1.5.0",
      "_model_name": "ButtonModel",
      "_view_count": null,
      "_view_module": "@jupyter-widgets/controls",
      "_view_module_version": "1.5.0",
      "_view_name": "ButtonView",
      "button_style": "",
      "description": "Verificar respuesta",
      "disabled": false,
      "icon": "",
      "layout": "IPY_MODEL_5694de61dabf4be2adaa94ce8241e8d5",
      "style": "IPY_MODEL_678109d5328f48e9ad70db7643cc2cee",
      "tooltip": ""
     }
    },
    "2ef271bd10844f15810f078fa9e1da1b": {
     "model_module": "@jupyter-widgets/base",
     "model_module_version": "1.2.0",
     "model_name": "LayoutModel",
     "state": {
      "_model_module": "@jupyter-widgets/base",
      "_model_module_version": "1.2.0",
      "_model_name": "LayoutModel",
      "_view_count": null,
      "_view_module": "@jupyter-widgets/base",
      "_view_module_version": "1.2.0",
      "_view_name": "LayoutView",
      "align_content": null,
      "align_items": null,
      "align_self": null,
      "border": null,
      "bottom": null,
      "display": null,
      "flex": null,
      "flex_flow": null,
      "grid_area": null,
      "grid_auto_columns": null,
      "grid_auto_flow": null,
      "grid_auto_rows": null,
      "grid_column": null,
      "grid_gap": null,
      "grid_row": null,
      "grid_template_areas": null,
      "grid_template_columns": null,
      "grid_template_rows": null,
      "height": null,
      "justify_content": null,
      "justify_items": null,
      "left": null,
      "margin": null,
      "max_height": null,
      "max_width": null,
      "min_height": null,
      "min_width": null,
      "object_fit": null,
      "object_position": null,
      "order": null,
      "overflow": null,
      "overflow_x": null,
      "overflow_y": null,
      "padding": null,
      "right": null,
      "top": null,
      "visibility": null,
      "width": null
     }
    },
    "362ed33e7d334102abc1c7a1c924258b": {
     "model_module": "@jupyter-widgets/controls",
     "model_module_version": "1.5.0",
     "model_name": "DescriptionStyleModel",
     "state": {
      "_model_module": "@jupyter-widgets/controls",
      "_model_module_version": "1.5.0",
      "_model_name": "DescriptionStyleModel",
      "_view_count": null,
      "_view_module": "@jupyter-widgets/base",
      "_view_module_version": "1.2.0",
      "_view_name": "StyleView",
      "description_width": ""
     }
    },
    "37d8f1ead9aa4de285a1401de200961a": {
     "model_module": "@jupyter-widgets/base",
     "model_module_version": "1.2.0",
     "model_name": "LayoutModel",
     "state": {
      "_model_module": "@jupyter-widgets/base",
      "_model_module_version": "1.2.0",
      "_model_name": "LayoutModel",
      "_view_count": null,
      "_view_module": "@jupyter-widgets/base",
      "_view_module_version": "1.2.0",
      "_view_name": "LayoutView",
      "align_content": null,
      "align_items": null,
      "align_self": null,
      "border": null,
      "bottom": null,
      "display": null,
      "flex": null,
      "flex_flow": null,
      "grid_area": null,
      "grid_auto_columns": null,
      "grid_auto_flow": null,
      "grid_auto_rows": null,
      "grid_column": null,
      "grid_gap": null,
      "grid_row": null,
      "grid_template_areas": null,
      "grid_template_columns": null,
      "grid_template_rows": null,
      "height": null,
      "justify_content": null,
      "justify_items": null,
      "left": null,
      "margin": null,
      "max_height": null,
      "max_width": null,
      "min_height": null,
      "min_width": null,
      "object_fit": null,
      "object_position": null,
      "order": null,
      "overflow": null,
      "overflow_x": null,
      "overflow_y": null,
      "padding": null,
      "right": null,
      "top": null,
      "visibility": null,
      "width": null
     }
    },
    "3fbc5c8ff68e442cb2011f8735be3e5f": {
     "model_module": "@jupyter-widgets/controls",
     "model_module_version": "1.5.0",
     "model_name": "DescriptionStyleModel",
     "state": {
      "_model_module": "@jupyter-widgets/controls",
      "_model_module_version": "1.5.0",
      "_model_name": "DescriptionStyleModel",
      "_view_count": null,
      "_view_module": "@jupyter-widgets/base",
      "_view_module_version": "1.2.0",
      "_view_name": "StyleView",
      "description_width": ""
     }
    },
    "5694de61dabf4be2adaa94ce8241e8d5": {
     "model_module": "@jupyter-widgets/base",
     "model_module_version": "1.2.0",
     "model_name": "LayoutModel",
     "state": {
      "_model_module": "@jupyter-widgets/base",
      "_model_module_version": "1.2.0",
      "_model_name": "LayoutModel",
      "_view_count": null,
      "_view_module": "@jupyter-widgets/base",
      "_view_module_version": "1.2.0",
      "_view_name": "LayoutView",
      "align_content": null,
      "align_items": null,
      "align_self": null,
      "border": null,
      "bottom": null,
      "display": null,
      "flex": null,
      "flex_flow": null,
      "grid_area": null,
      "grid_auto_columns": null,
      "grid_auto_flow": null,
      "grid_auto_rows": null,
      "grid_column": null,
      "grid_gap": null,
      "grid_row": null,
      "grid_template_areas": null,
      "grid_template_columns": null,
      "grid_template_rows": null,
      "height": null,
      "justify_content": null,
      "justify_items": null,
      "left": null,
      "margin": null,
      "max_height": null,
      "max_width": null,
      "min_height": null,
      "min_width": null,
      "object_fit": null,
      "object_position": null,
      "order": null,
      "overflow": null,
      "overflow_x": null,
      "overflow_y": null,
      "padding": null,
      "right": null,
      "top": null,
      "visibility": null,
      "width": null
     }
    },
    "5ccdbfa8ba8f47c2a99cb5b4c833ac32": {
     "model_module": "@jupyter-widgets/base",
     "model_module_version": "1.2.0",
     "model_name": "LayoutModel",
     "state": {
      "_model_module": "@jupyter-widgets/base",
      "_model_module_version": "1.2.0",
      "_model_name": "LayoutModel",
      "_view_count": null,
      "_view_module": "@jupyter-widgets/base",
      "_view_module_version": "1.2.0",
      "_view_name": "LayoutView",
      "align_content": null,
      "align_items": null,
      "align_self": null,
      "border": null,
      "bottom": null,
      "display": null,
      "flex": null,
      "flex_flow": null,
      "grid_area": null,
      "grid_auto_columns": null,
      "grid_auto_flow": null,
      "grid_auto_rows": null,
      "grid_column": null,
      "grid_gap": null,
      "grid_row": null,
      "grid_template_areas": null,
      "grid_template_columns": null,
      "grid_template_rows": null,
      "height": null,
      "justify_content": null,
      "justify_items": null,
      "left": null,
      "margin": null,
      "max_height": null,
      "max_width": null,
      "min_height": null,
      "min_width": null,
      "object_fit": null,
      "object_position": null,
      "order": null,
      "overflow": null,
      "overflow_x": null,
      "overflow_y": null,
      "padding": null,
      "right": null,
      "top": null,
      "visibility": null,
      "width": null
     }
    },
    "678109d5328f48e9ad70db7643cc2cee": {
     "model_module": "@jupyter-widgets/controls",
     "model_module_version": "1.5.0",
     "model_name": "ButtonStyleModel",
     "state": {
      "_model_module": "@jupyter-widgets/controls",
      "_model_module_version": "1.5.0",
      "_model_name": "ButtonStyleModel",
      "_view_count": null,
      "_view_module": "@jupyter-widgets/base",
      "_view_module_version": "1.2.0",
      "_view_name": "StyleView",
      "button_color": null,
      "font_weight": ""
     }
    },
    "6c3d04cb2bb449e1811c7b83fc3819a9": {
     "model_module": "@jupyter-widgets/base",
     "model_module_version": "1.2.0",
     "model_name": "LayoutModel",
     "state": {
      "_model_module": "@jupyter-widgets/base",
      "_model_module_version": "1.2.0",
      "_model_name": "LayoutModel",
      "_view_count": null,
      "_view_module": "@jupyter-widgets/base",
      "_view_module_version": "1.2.0",
      "_view_name": "LayoutView",
      "align_content": null,
      "align_items": null,
      "align_self": null,
      "border": null,
      "bottom": null,
      "display": null,
      "flex": null,
      "flex_flow": null,
      "grid_area": null,
      "grid_auto_columns": null,
      "grid_auto_flow": null,
      "grid_auto_rows": null,
      "grid_column": null,
      "grid_gap": null,
      "grid_row": null,
      "grid_template_areas": null,
      "grid_template_columns": null,
      "grid_template_rows": null,
      "height": null,
      "justify_content": null,
      "justify_items": null,
      "left": null,
      "margin": null,
      "max_height": null,
      "max_width": null,
      "min_height": null,
      "min_width": null,
      "object_fit": null,
      "object_position": null,
      "order": null,
      "overflow": null,
      "overflow_x": null,
      "overflow_y": null,
      "padding": null,
      "right": null,
      "top": null,
      "visibility": null,
      "width": null
     }
    },
    "738ecff0dae944838ea8f74ab6e172cd": {
     "model_module": "@jupyter-widgets/base",
     "model_module_version": "1.2.0",
     "model_name": "LayoutModel",
     "state": {
      "_model_module": "@jupyter-widgets/base",
      "_model_module_version": "1.2.0",
      "_model_name": "LayoutModel",
      "_view_count": null,
      "_view_module": "@jupyter-widgets/base",
      "_view_module_version": "1.2.0",
      "_view_name": "LayoutView",
      "align_content": null,
      "align_items": null,
      "align_self": null,
      "border": null,
      "bottom": null,
      "display": null,
      "flex": null,
      "flex_flow": null,
      "grid_area": null,
      "grid_auto_columns": null,
      "grid_auto_flow": null,
      "grid_auto_rows": null,
      "grid_column": null,
      "grid_gap": null,
      "grid_row": null,
      "grid_template_areas": null,
      "grid_template_columns": null,
      "grid_template_rows": null,
      "height": null,
      "justify_content": null,
      "justify_items": null,
      "left": null,
      "margin": null,
      "max_height": null,
      "max_width": null,
      "min_height": null,
      "min_width": null,
      "object_fit": null,
      "object_position": null,
      "order": null,
      "overflow": null,
      "overflow_x": null,
      "overflow_y": null,
      "padding": null,
      "right": null,
      "top": null,
      "visibility": null,
      "width": null
     }
    },
    "746e7ec4f2a24dce82e19f5d7367fa10": {
     "model_module": "@jupyter-widgets/output",
     "model_module_version": "1.0.0",
     "model_name": "OutputModel",
     "state": {
      "_dom_classes": [],
      "_model_module": "@jupyter-widgets/output",
      "_model_module_version": "1.0.0",
      "_model_name": "OutputModel",
      "_view_count": null,
      "_view_module": "@jupyter-widgets/output",
      "_view_module_version": "1.0.0",
      "_view_name": "OutputView",
      "layout": "IPY_MODEL_c3e72e388f0c4c9abb38e4ad2dfc5dbd",
      "msg_id": "",
      "outputs": []
     }
    },
    "77672d9413d24ada8f78088d0fb14c94": {
     "model_module": "@jupyter-widgets/output",
     "model_module_version": "1.0.0",
     "model_name": "OutputModel",
     "state": {
      "_dom_classes": [],
      "_model_module": "@jupyter-widgets/output",
      "_model_module_version": "1.0.0",
      "_model_name": "OutputModel",
      "_view_count": null,
      "_view_module": "@jupyter-widgets/output",
      "_view_module_version": "1.0.0",
      "_view_name": "OutputView",
      "layout": "IPY_MODEL_5ccdbfa8ba8f47c2a99cb5b4c833ac32",
      "msg_id": "",
      "outputs": [
       {
        "data": {
         "image/png": "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\n",
         "text/plain": "<Figure size 1000x600 with 1 Axes>"
        },
        "metadata": {},
        "output_type": "display_data"
       }
      ]
     }
    },
    "78695a5239ae441fa1623682d8958d5b": {
     "model_module": "@jupyter-widgets/controls",
     "model_module_version": "1.5.0",
     "model_name": "TextModel",
     "state": {
      "_dom_classes": [],
      "_model_module": "@jupyter-widgets/controls",
      "_model_module_version": "1.5.0",
      "_model_name": "TextModel",
      "_view_count": null,
      "_view_module": "@jupyter-widgets/controls",
      "_view_module_version": "1.5.0",
      "_view_name": "TextView",
      "continuous_update": true,
      "description": "Tu respuesta:",
      "description_tooltip": null,
      "disabled": false,
      "layout": "IPY_MODEL_738ecff0dae944838ea8f74ab6e172cd",
      "placeholder": "Ingresa el resultado en au, solamente el valor numérico:",
      "style": "IPY_MODEL_362ed33e7d334102abc1c7a1c924258b",
      "value": "137"
     }
    },
    "7f48151937fc4fa0983c926d139d90c4": {
     "model_module": "@jupyter-widgets/base",
     "model_module_version": "1.2.0",
     "model_name": "LayoutModel",
     "state": {
      "_model_module": "@jupyter-widgets/base",
      "_model_module_version": "1.2.0",
      "_model_name": "LayoutModel",
      "_view_count": null,
      "_view_module": "@jupyter-widgets/base",
      "_view_module_version": "1.2.0",
      "_view_name": "LayoutView",
      "align_content": null,
      "align_items": null,
      "align_self": null,
      "border": null,
      "bottom": null,
      "display": null,
      "flex": null,
      "flex_flow": null,
      "grid_area": null,
      "grid_auto_columns": null,
      "grid_auto_flow": null,
      "grid_auto_rows": null,
      "grid_column": null,
      "grid_gap": null,
      "grid_row": null,
      "grid_template_areas": null,
      "grid_template_columns": null,
      "grid_template_rows": null,
      "height": null,
      "justify_content": null,
      "justify_items": null,
      "left": null,
      "margin": null,
      "max_height": null,
      "max_width": null,
      "min_height": null,
      "min_width": null,
      "object_fit": null,
      "object_position": null,
      "order": null,
      "overflow": null,
      "overflow_x": null,
      "overflow_y": null,
      "padding": null,
      "right": null,
      "top": null,
      "visibility": null,
      "width": null
     }
    },
    "8147f1eb4b0a4843bedde4c2b1e40a26": {
     "model_module": "@jupyter-widgets/controls",
     "model_module_version": "1.5.0",
     "model_name": "DescriptionStyleModel",
     "state": {
      "_model_module": "@jupyter-widgets/controls",
      "_model_module_version": "1.5.0",
      "_model_name": "DescriptionStyleModel",
      "_view_count": null,
      "_view_module": "@jupyter-widgets/base",
      "_view_module_version": "1.2.0",
      "_view_name": "StyleView",
      "description_width": ""
     }
    },
    "82dc3e6eb30a4969a23ea366c1fb4888": {
     "model_module": "@jupyter-widgets/output",
     "model_module_version": "1.0.0",
     "model_name": "OutputModel",
     "state": {
      "_dom_classes": [],
      "_model_module": "@jupyter-widgets/output",
      "_model_module_version": "1.0.0",
      "_model_name": "OutputModel",
      "_view_count": null,
      "_view_module": "@jupyter-widgets/output",
      "_view_module_version": "1.0.0",
      "_view_name": "OutputView",
      "layout": "IPY_MODEL_37d8f1ead9aa4de285a1401de200961a",
      "msg_id": "",
      "outputs": [
       {
        "data": {
         "text/markdown": "✅ **¡Correcto!** La respuesta es 137. ¡Bien hecho!",
         "text/plain": "<IPython.core.display.Markdown object>"
        },
        "metadata": {},
        "output_type": "display_data"
       }
      ]
     }
    },
    "8d126250f63e40459afa977810fbf7b3": {
     "model_module": "@jupyter-widgets/controls",
     "model_module_version": "1.5.0",
     "model_name": "VBoxModel",
     "state": {
      "_dom_classes": [
       "widget-interact"
      ],
      "_model_module": "@jupyter-widgets/controls",
      "_model_module_version": "1.5.0",
      "_model_name": "VBoxModel",
      "_view_count": null,
      "_view_module": "@jupyter-widgets/controls",
      "_view_module_version": "1.5.0",
      "_view_name": "VBoxView",
      "box_style": "",
      "children": [
       "IPY_MODEL_99c9c99ed7024c8ab39ecca1d70b15e5",
       "IPY_MODEL_77672d9413d24ada8f78088d0fb14c94"
      ],
      "layout": "IPY_MODEL_d1e69004ed4f4c4aad24707e3141dad7"
     }
    },
    "91d55acb285140c19d8acc449076c0db": {
     "model_module": "@jupyter-widgets/controls",
     "model_module_version": "1.5.0",
     "model_name": "ButtonStyleModel",
     "state": {
      "_model_module": "@jupyter-widgets/controls",
      "_model_module_version": "1.5.0",
      "_model_name": "ButtonStyleModel",
      "_view_count": null,
      "_view_module": "@jupyter-widgets/base",
      "_view_module_version": "1.2.0",
      "_view_name": "StyleView",
      "button_color": null,
      "font_weight": ""
     }
    },
    "99c9c99ed7024c8ab39ecca1d70b15e5": {
     "model_module": "@jupyter-widgets/controls",
     "model_module_version": "1.5.0",
     "model_name": "FloatSliderModel",
     "state": {
      "_dom_classes": [],
      "_model_module": "@jupyter-widgets/controls",
      "_model_module_version": "1.5.0",
      "_model_name": "FloatSliderModel",
      "_view_count": null,
      "_view_module": "@jupyter-widgets/controls",
      "_view_module_version": "1.5.0",
      "_view_name": "FloatSliderView",
      "continuous_update": true,
      "description": "Temperatura (K):",
      "description_tooltip": null,
      "disabled": false,
      "layout": "IPY_MODEL_6c3d04cb2bb449e1811c7b83fc3819a9",
      "max": 10000,
      "min": 1000,
      "orientation": "horizontal",
      "readout": true,
      "readout_format": ".2f",
      "step": 100,
      "style": "IPY_MODEL_a0e33afefa1543e39aa96b5293bc3579",
      "value": 6000
     }
    },
    "a0e33afefa1543e39aa96b5293bc3579": {
     "model_module": "@jupyter-widgets/controls",
     "model_module_version": "1.5.0",
     "model_name": "SliderStyleModel",
     "state": {
      "_model_module": "@jupyter-widgets/controls",
      "_model_module_version": "1.5.0",
      "_model_name": "SliderStyleModel",
      "_view_count": null,
      "_view_module": "@jupyter-widgets/base",
      "_view_module_version": "1.2.0",
      "_view_name": "StyleView",
      "description_width": "",
      "handle_color": null
     }
    },
    "ad33dd0cff014ff8b20d08fbe3bbc16f": {
     "model_module": "@jupyter-widgets/controls",
     "model_module_version": "1.5.0",
     "model_name": "ButtonModel",
     "state": {
      "_dom_classes": [],
      "_model_module": "@jupyter-widgets/controls",
      "_model_module_version": "1.5.0",
      "_model_name": "ButtonModel",
      "_view_count": null,
      "_view_module": "@jupyter-widgets/controls",
      "_view_module_version": "1.5.0",
      "_view_name": "ButtonView",
      "button_style": "",
      "description": "Enviar",
      "disabled": false,
      "icon": "",
      "layout": "IPY_MODEL_e6c0c4a199d14530b7656a36eb7e0fb6",
      "style": "IPY_MODEL_2017b8ffdad845dbae98014cc247c366",
      "tooltip": ""
     }
    },
    "b337a5967609453b89ce43b33cde756e": {
     "model_module": "@jupyter-widgets/controls",
     "model_module_version": "1.5.0",
     "model_name": "TextModel",
     "state": {
      "_dom_classes": [],
      "_model_module": "@jupyter-widgets/controls",
      "_model_module_version": "1.5.0",
      "_model_name": "TextModel",
      "_view_count": null,
      "_view_module": "@jupyter-widgets/controls",
      "_view_module_version": "1.5.0",
      "_view_name": "TextView",
      "continuous_update": true,
      "description": "Respuesta:",
      "description_tooltip": null,
      "disabled": false,
      "layout": "IPY_MODEL_2ef271bd10844f15810f078fa9e1da1b",
      "placeholder": "Escribe tu respuesta aquí",
      "style": "IPY_MODEL_8147f1eb4b0a4843bedde4c2b1e40a26",
      "value": ""
     }
    },
    "c3e72e388f0c4c9abb38e4ad2dfc5dbd": {
     "model_module": "@jupyter-widgets/base",
     "model_module_version": "1.2.0",
     "model_name": "LayoutModel",
     "state": {
      "_model_module": "@jupyter-widgets/base",
      "_model_module_version": "1.2.0",
      "_model_name": "LayoutModel",
      "_view_count": null,
      "_view_module": "@jupyter-widgets/base",
      "_view_module_version": "1.2.0",
      "_view_name": "LayoutView",
      "align_content": null,
      "align_items": null,
      "align_self": null,
      "border": null,
      "bottom": null,
      "display": null,
      "flex": null,
      "flex_flow": null,
      "grid_area": null,
      "grid_auto_columns": null,
      "grid_auto_flow": null,
      "grid_auto_rows": null,
      "grid_column": null,
      "grid_gap": null,
      "grid_row": null,
      "grid_template_areas": null,
      "grid_template_columns": null,
      "grid_template_rows": null,
      "height": null,
      "justify_content": null,
      "justify_items": null,
      "left": null,
      "margin": null,
      "max_height": null,
      "max_width": null,
      "min_height": null,
      "min_width": null,
      "object_fit": null,
      "object_position": null,
      "order": null,
      "overflow": null,
      "overflow_x": null,
      "overflow_y": null,
      "padding": null,
      "right": null,
      "top": null,
      "visibility": null,
      "width": null
     }
    },
    "d1e69004ed4f4c4aad24707e3141dad7": {
     "model_module": "@jupyter-widgets/base",
     "model_module_version": "1.2.0",
     "model_name": "LayoutModel",
     "state": {
      "_model_module": "@jupyter-widgets/base",
      "_model_module_version": "1.2.0",
      "_model_name": "LayoutModel",
      "_view_count": null,
      "_view_module": "@jupyter-widgets/base",
      "_view_module_version": "1.2.0",
      "_view_name": "LayoutView",
      "align_content": null,
      "align_items": null,
      "align_self": null,
      "border": null,
      "bottom": null,
      "display": null,
      "flex": null,
      "flex_flow": null,
      "grid_area": null,
      "grid_auto_columns": null,
      "grid_auto_flow": null,
      "grid_auto_rows": null,
      "grid_column": null,
      "grid_gap": null,
      "grid_row": null,
      "grid_template_areas": null,
      "grid_template_columns": null,
      "grid_template_rows": null,
      "height": null,
      "justify_content": null,
      "justify_items": null,
      "left": null,
      "margin": null,
      "max_height": null,
      "max_width": null,
      "min_height": null,
      "min_width": null,
      "object_fit": null,
      "object_position": null,
      "order": null,
      "overflow": null,
      "overflow_x": null,
      "overflow_y": null,
      "padding": null,
      "right": null,
      "top": null,
      "visibility": null,
      "width": null
     }
    },
    "e6c0c4a199d14530b7656a36eb7e0fb6": {
     "model_module": "@jupyter-widgets/base",
     "model_module_version": "1.2.0",
     "model_name": "LayoutModel",
     "state": {
      "_model_module": "@jupyter-widgets/base",
      "_model_module_version": "1.2.0",
      "_model_name": "LayoutModel",
      "_view_count": null,
      "_view_module": "@jupyter-widgets/base",
      "_view_module_version": "1.2.0",
      "_view_name": "LayoutView",
      "align_content": null,
      "align_items": null,
      "align_self": null,
      "border": null,
      "bottom": null,
      "display": null,
      "flex": null,
      "flex_flow": null,
      "grid_area": null,
      "grid_auto_columns": null,
      "grid_auto_flow": null,
      "grid_auto_rows": null,
      "grid_column": null,
      "grid_gap": null,
      "grid_row": null,
      "grid_template_areas": null,
      "grid_template_columns": null,
      "grid_template_rows": null,
      "height": null,
      "justify_content": null,
      "justify_items": null,
      "left": null,
      "margin": null,
      "max_height": null,
      "max_width": null,
      "min_height": null,
      "min_width": null,
      "object_fit": null,
      "object_position": null,
      "order": null,
      "overflow": null,
      "overflow_x": null,
      "overflow_y": null,
      "padding": null,
      "right": null,
      "top": null,
      "visibility": null,
      "width": null
     }
    }
   }
  }
 },
 "nbformat": 4,
 "nbformat_minor": 4
}
